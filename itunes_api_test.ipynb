{
  "nbformat": 4,
  "nbformat_minor": 0,
  "metadata": {
    "colab": {
      "provenance": [],
      "authorship_tag": "ABX9TyMqvWfnjItODUeG3V5DeRuQ",
      "include_colab_link": true
    },
    "kernelspec": {
      "name": "python3",
      "display_name": "Python 3"
    },
    "language_info": {
      "name": "python"
    }
  },
  "cells": [
    {
      "cell_type": "markdown",
      "metadata": {
        "id": "view-in-github",
        "colab_type": "text"
      },
      "source": [
        "<a href=\"https://colab.research.google.com/github/kylecrone/data-analytics-capstone/blob/main/itunes_api_test.ipynb\" target=\"_parent\"><img src=\"https://colab.research.google.com/assets/colab-badge.svg\" alt=\"Open In Colab\"/></a>"
      ]
    },
    {
      "cell_type": "code",
      "execution_count": 1,
      "metadata": {
        "id": "V-bOWTNG3kH_"
      },
      "outputs": [],
      "source": [
        "import requests\n",
        "import json\n"
      ]
    },
    {
      "cell_type": "code",
      "source": [
        "# iTunes store public API\n",
        "# documentation: https://developer.apple.com/library/archive/documentation/AudioVideo/Conceptual/iTuneSearchAPI/index.html#//apple_ref/doc/uid/TP40017632-CH3-SW1"
      ],
      "metadata": {
        "id": "2pemRNiG3mcz"
      },
      "execution_count": 2,
      "outputs": []
    },
    {
      "cell_type": "code",
      "source": [
        "search_terms = ['apple music', 'netflix', 'hulu']"
      ],
      "metadata": {
        "id": "d-2R1ZNS33yW"
      },
      "execution_count": 8,
      "outputs": []
    },
    {
      "cell_type": "code",
      "source": [
        "# the search_terms above will be put into the url below where `term={app}`\n",
        "for app in search_terms:\n",
        "  url = f'https://itunes.apple.com/search?term={app}&country=us&entity=software&limit=1'\n",
        "  response = requests.get(url).text\n",
        "  # result can be printed to view the entire JSON dictionary for each response\n",
        "  print(response)"
      ],
      "metadata": {
        "id": "uKt1ziQh3sK4"
      },
      "execution_count": null,
      "outputs": []
    },
    {
      "cell_type": "code",
      "source": [
        "# instead of printing the entire thing, you can specifiy which parts of the JSON dictionary you want to return:\n",
        "for app in search_terms:\n",
        "  url = f'https://itunes.apple.com/search?term={app}&country=us&entity=software&limit=1'\n",
        "  response = requests.get(url).text\n",
        "  \n",
        "  # first load the response with the json package\n",
        "  data = json.loads(response)\n",
        "\n",
        "  # then you can iterate through the json\n",
        "  # JSON is a form of dictionary, so you just need to specifify the 'key' to access the 'value'\n",
        "  # the 4 listed below are just 4 examples, but there are other keys. It depends on the JSON/API you are using\n",
        "  for row in data['results']:\n",
        "    title = row['trackName']\n",
        "    genre = row['primaryGenreName']\n",
        "    rating = row['averageUserRating']\n",
        "    rating_count = row['userRatingCount']\n",
        "\n",
        "    print(title)\n",
        "    print(genre)\n",
        "    print(rating)\n",
        "    print(rating_count)\n",
        "    print()"
      ],
      "metadata": {
        "colab": {
          "base_uri": "https://localhost:8080/"
        },
        "id": "y8z4prZ13s5N",
        "outputId": "ed20caad-00ec-43ed-90e6-69f8cb30e2dc"
      },
      "execution_count": 10,
      "outputs": [
        {
          "output_type": "stream",
          "name": "stdout",
          "text": [
            "Apple Music\n",
            "Music\n",
            "4.72621\n",
            "294542\n",
            "\n",
            "Netflix\n",
            "Entertainment\n",
            "3.71904\n",
            "348065\n",
            "\n",
            "Hulu: Watch TV shows & movies\n",
            "Entertainment\n",
            "4.62266\n",
            "1405825\n",
            "\n"
          ]
        }
      ]
    },
    {
      "cell_type": "code",
      "source": [
        "# there are many ways to format the data, one way is to put it in a pandas dataframe\n",
        "# install pandas if not on machine\n",
        "!pip install pandas"
      ],
      "metadata": {
        "colab": {
          "base_uri": "https://localhost:8080/"
        },
        "id": "uEQlo3tr6dGR",
        "outputId": "3c9b4cfe-13fb-40f0-8984-e904c70dd7ba"
      },
      "execution_count": 16,
      "outputs": [
        {
          "output_type": "stream",
          "name": "stdout",
          "text": [
            "Looking in indexes: https://pypi.org/simple, https://us-python.pkg.dev/colab-wheels/public/simple/\n",
            "Requirement already satisfied: pandas in /usr/local/lib/python3.10/dist-packages (1.5.3)\n",
            "Requirement already satisfied: python-dateutil>=2.8.1 in /usr/local/lib/python3.10/dist-packages (from pandas) (2.8.2)\n",
            "Requirement already satisfied: pytz>=2020.1 in /usr/local/lib/python3.10/dist-packages (from pandas) (2022.7.1)\n",
            "Requirement already satisfied: numpy>=1.21.0 in /usr/local/lib/python3.10/dist-packages (from pandas) (1.22.4)\n",
            "Requirement already satisfied: six>=1.5 in /usr/local/lib/python3.10/dist-packages (from python-dateutil>=2.8.1->pandas) (1.16.0)\n"
          ]
        }
      ]
    },
    {
      "cell_type": "code",
      "source": [
        "import pandas as pd"
      ],
      "metadata": {
        "id": "-IqOojOt6qNY"
      },
      "execution_count": null,
      "outputs": []
    },
    {
      "cell_type": "code",
      "source": [
        "\n",
        "# create empty list to append values to\n",
        "itunes_data = []\n",
        "\n",
        "for app in search_terms:\n",
        "  url = f'https://itunes.apple.com/search?term={app}&country=us&entity=software&limit=1'\n",
        "  response = requests.get(url).text\n",
        "  data = json.loads(response)\n",
        "  for row in data['results']:\n",
        "    title = row['trackName']\n",
        "    genre = row['primaryGenreName']\n",
        "    rating = row['averageUserRating']\n",
        "    rating_count = row['userRatingCount']\n",
        "    # append the values to the list in dictionary format\n",
        "    itunes_data.append({'title': title,\n",
        "                        'genre': genre,\n",
        "                        'rating': rating,\n",
        "                        'rating_count': rating_count})\n",
        "    "
      ],
      "metadata": {
        "id": "ENMK0wiC3tVF"
      },
      "execution_count": 17,
      "outputs": []
    },
    {
      "cell_type": "code",
      "source": [
        "# turn the list into a dataframe\n",
        "df = pd.DataFrame(itunes_data)\n",
        "\n",
        "# the dataframe can be saved in a bunch of formats: excel, json, csv, etc... or you can just print it within the notebook to view it"
      ],
      "metadata": {
        "id": "Kedu4eV03tj9"
      },
      "execution_count": 18,
      "outputs": []
    },
    {
      "cell_type": "code",
      "source": [
        "df"
      ],
      "metadata": {
        "colab": {
          "base_uri": "https://localhost:8080/",
          "height": 143
        },
        "id": "y_mjQXh13ttN",
        "outputId": "95b85d3b-e588-4f48-edc1-95535e8c0483"
      },
      "execution_count": 19,
      "outputs": [
        {
          "output_type": "execute_result",
          "data": {
            "text/plain": [
              "                           title          genre   rating  rating_count\n",
              "0                    Apple Music          Music  4.72621        294542\n",
              "1                        Netflix  Entertainment  3.71904        348065\n",
              "2  Hulu: Watch TV shows & movies  Entertainment  4.62266       1405825"
            ],
            "text/html": [
              "\n",
              "  <div id=\"df-9011276c-3e89-4463-aa7c-8e8043fd1a3c\">\n",
              "    <div class=\"colab-df-container\">\n",
              "      <div>\n",
              "<style scoped>\n",
              "    .dataframe tbody tr th:only-of-type {\n",
              "        vertical-align: middle;\n",
              "    }\n",
              "\n",
              "    .dataframe tbody tr th {\n",
              "        vertical-align: top;\n",
              "    }\n",
              "\n",
              "    .dataframe thead th {\n",
              "        text-align: right;\n",
              "    }\n",
              "</style>\n",
              "<table border=\"1\" class=\"dataframe\">\n",
              "  <thead>\n",
              "    <tr style=\"text-align: right;\">\n",
              "      <th></th>\n",
              "      <th>title</th>\n",
              "      <th>genre</th>\n",
              "      <th>rating</th>\n",
              "      <th>rating_count</th>\n",
              "    </tr>\n",
              "  </thead>\n",
              "  <tbody>\n",
              "    <tr>\n",
              "      <th>0</th>\n",
              "      <td>Apple Music</td>\n",
              "      <td>Music</td>\n",
              "      <td>4.72621</td>\n",
              "      <td>294542</td>\n",
              "    </tr>\n",
              "    <tr>\n",
              "      <th>1</th>\n",
              "      <td>Netflix</td>\n",
              "      <td>Entertainment</td>\n",
              "      <td>3.71904</td>\n",
              "      <td>348065</td>\n",
              "    </tr>\n",
              "    <tr>\n",
              "      <th>2</th>\n",
              "      <td>Hulu: Watch TV shows &amp; movies</td>\n",
              "      <td>Entertainment</td>\n",
              "      <td>4.62266</td>\n",
              "      <td>1405825</td>\n",
              "    </tr>\n",
              "  </tbody>\n",
              "</table>\n",
              "</div>\n",
              "      <button class=\"colab-df-convert\" onclick=\"convertToInteractive('df-9011276c-3e89-4463-aa7c-8e8043fd1a3c')\"\n",
              "              title=\"Convert this dataframe to an interactive table.\"\n",
              "              style=\"display:none;\">\n",
              "        \n",
              "  <svg xmlns=\"http://www.w3.org/2000/svg\" height=\"24px\"viewBox=\"0 0 24 24\"\n",
              "       width=\"24px\">\n",
              "    <path d=\"M0 0h24v24H0V0z\" fill=\"none\"/>\n",
              "    <path d=\"M18.56 5.44l.94 2.06.94-2.06 2.06-.94-2.06-.94-.94-2.06-.94 2.06-2.06.94zm-11 1L8.5 8.5l.94-2.06 2.06-.94-2.06-.94L8.5 2.5l-.94 2.06-2.06.94zm10 10l.94 2.06.94-2.06 2.06-.94-2.06-.94-.94-2.06-.94 2.06-2.06.94z\"/><path d=\"M17.41 7.96l-1.37-1.37c-.4-.4-.92-.59-1.43-.59-.52 0-1.04.2-1.43.59L10.3 9.45l-7.72 7.72c-.78.78-.78 2.05 0 2.83L4 21.41c.39.39.9.59 1.41.59.51 0 1.02-.2 1.41-.59l7.78-7.78 2.81-2.81c.8-.78.8-2.07 0-2.86zM5.41 20L4 18.59l7.72-7.72 1.47 1.35L5.41 20z\"/>\n",
              "  </svg>\n",
              "      </button>\n",
              "      \n",
              "  <style>\n",
              "    .colab-df-container {\n",
              "      display:flex;\n",
              "      flex-wrap:wrap;\n",
              "      gap: 12px;\n",
              "    }\n",
              "\n",
              "    .colab-df-convert {\n",
              "      background-color: #E8F0FE;\n",
              "      border: none;\n",
              "      border-radius: 50%;\n",
              "      cursor: pointer;\n",
              "      display: none;\n",
              "      fill: #1967D2;\n",
              "      height: 32px;\n",
              "      padding: 0 0 0 0;\n",
              "      width: 32px;\n",
              "    }\n",
              "\n",
              "    .colab-df-convert:hover {\n",
              "      background-color: #E2EBFA;\n",
              "      box-shadow: 0px 1px 2px rgba(60, 64, 67, 0.3), 0px 1px 3px 1px rgba(60, 64, 67, 0.15);\n",
              "      fill: #174EA6;\n",
              "    }\n",
              "\n",
              "    [theme=dark] .colab-df-convert {\n",
              "      background-color: #3B4455;\n",
              "      fill: #D2E3FC;\n",
              "    }\n",
              "\n",
              "    [theme=dark] .colab-df-convert:hover {\n",
              "      background-color: #434B5C;\n",
              "      box-shadow: 0px 1px 3px 1px rgba(0, 0, 0, 0.15);\n",
              "      filter: drop-shadow(0px 1px 2px rgba(0, 0, 0, 0.3));\n",
              "      fill: #FFFFFF;\n",
              "    }\n",
              "  </style>\n",
              "\n",
              "      <script>\n",
              "        const buttonEl =\n",
              "          document.querySelector('#df-9011276c-3e89-4463-aa7c-8e8043fd1a3c button.colab-df-convert');\n",
              "        buttonEl.style.display =\n",
              "          google.colab.kernel.accessAllowed ? 'block' : 'none';\n",
              "\n",
              "        async function convertToInteractive(key) {\n",
              "          const element = document.querySelector('#df-9011276c-3e89-4463-aa7c-8e8043fd1a3c');\n",
              "          const dataTable =\n",
              "            await google.colab.kernel.invokeFunction('convertToInteractive',\n",
              "                                                     [key], {});\n",
              "          if (!dataTable) return;\n",
              "\n",
              "          const docLinkHtml = 'Like what you see? Visit the ' +\n",
              "            '<a target=\"_blank\" href=https://colab.research.google.com/notebooks/data_table.ipynb>data table notebook</a>'\n",
              "            + ' to learn more about interactive tables.';\n",
              "          element.innerHTML = '';\n",
              "          dataTable['output_type'] = 'display_data';\n",
              "          await google.colab.output.renderOutput(dataTable, element);\n",
              "          const docLink = document.createElement('div');\n",
              "          docLink.innerHTML = docLinkHtml;\n",
              "          element.appendChild(docLink);\n",
              "        }\n",
              "      </script>\n",
              "    </div>\n",
              "  </div>\n",
              "  "
            ]
          },
          "metadata": {},
          "execution_count": 19
        }
      ]
    }
  ]
}